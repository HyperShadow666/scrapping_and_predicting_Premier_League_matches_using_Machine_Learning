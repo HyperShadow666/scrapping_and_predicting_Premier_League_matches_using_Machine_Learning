{
 "cells": [
  {
   "cell_type": "code",
   "execution_count": 1,
   "id": "14bf593d",
   "metadata": {},
   "outputs": [],
   "source": [
    "import requests"
   ]
  },
  {
   "cell_type": "markdown",
   "id": "aee53ee7",
   "metadata": {},
   "source": [
    "### handing the url of the websit we want to scrap"
   ]
  },
  {
   "cell_type": "code",
   "execution_count": 2,
   "id": "2f71aa0e",
   "metadata": {},
   "outputs": [],
   "source": [
    "standing_url = \"https://fbref.com/en/comps/9/Premier-League-Stats\""
   ]
  },
  {
   "cell_type": "code",
   "execution_count": 10,
   "id": "abffabcc",
   "metadata": {},
   "outputs": [],
   "source": [
    "data = requests.get(standing_url)"
   ]
  },
  {
   "cell_type": "code",
   "execution_count": 11,
   "id": "9adb8389",
   "metadata": {},
   "outputs": [
    {
     "data": {
      "text/plain": [
       "<Response [429]>"
      ]
     },
     "execution_count": 11,
     "metadata": {},
     "output_type": "execute_result"
    }
   ],
   "source": [
    "data"
   ]
  },
  {
   "cell_type": "code",
   "execution_count": null,
   "id": "464dc07d",
   "metadata": {},
   "outputs": [],
   "source": []
  },
  {
   "cell_type": "markdown",
   "id": "ada9f24b",
   "metadata": {},
   "source": [
    "### using a library for parsing url "
   ]
  },
  {
   "cell_type": "code",
   "execution_count": 12,
   "id": "f81096f6",
   "metadata": {},
   "outputs": [],
   "source": [
    "from bs4 import BeautifulSoup"
   ]
  },
  {
   "cell_type": "code",
   "execution_count": 6,
   "id": "01a56605",
   "metadata": {},
   "outputs": [],
   "source": [
    "soup = BeautifulSoup(data.text, 'lxml')"
   ]
  },
  {
   "cell_type": "code",
   "execution_count": 7,
   "id": "51d84e93",
   "metadata": {},
   "outputs": [
    {
     "ename": "IndexError",
     "evalue": "list index out of range",
     "output_type": "error",
     "traceback": [
      "\u001b[1;31m---------------------------------------------------------------------------\u001b[0m",
      "\u001b[1;31mIndexError\u001b[0m                                Traceback (most recent call last)",
      "Cell \u001b[1;32mIn[7], line 3\u001b[0m\n\u001b[0;32m      1\u001b[0m \u001b[38;5;66;03m#using scc selector  to find the table of matches\u001b[39;00m\n\u001b[1;32m----> 3\u001b[0m table \u001b[38;5;241m=\u001b[39m \u001b[43msoup\u001b[49m\u001b[38;5;241;43m.\u001b[39;49m\u001b[43mselect\u001b[49m\u001b[43m(\u001b[49m\u001b[38;5;124;43m'\u001b[39;49m\u001b[38;5;124;43mtable.stats_table\u001b[39;49m\u001b[38;5;124;43m'\u001b[39;49m\u001b[43m)\u001b[49m\u001b[43m[\u001b[49m\u001b[38;5;241;43m0\u001b[39;49m\u001b[43m]\u001b[49m\n",
      "\u001b[1;31mIndexError\u001b[0m: list index out of range"
     ]
    }
   ],
   "source": [
    "#using scc selector  to find the table of matches\n",
    "\n",
    "table = soup.select('table.stats_table')[0]"
   ]
  },
  {
   "cell_type": "code",
   "execution_count": null,
   "id": "4d68a0de",
   "metadata": {
    "scrolled": false
   },
   "outputs": [],
   "source": []
  },
  {
   "cell_type": "code",
   "execution_count": null,
   "id": "a0301399",
   "metadata": {},
   "outputs": [],
   "source": [
    "links = table.find_all('a')"
   ]
  },
  {
   "cell_type": "code",
   "execution_count": null,
   "id": "9ceaedac",
   "metadata": {},
   "outputs": [],
   "source": [
    "links = [l.get(\"href\") for l in links]"
   ]
  },
  {
   "cell_type": "code",
   "execution_count": null,
   "id": "19cf56bc",
   "metadata": {},
   "outputs": [],
   "source": [
    "links =[l for l in links if '/squads/' in l]"
   ]
  },
  {
   "cell_type": "code",
   "execution_count": null,
   "id": "ab7fb8d0",
   "metadata": {},
   "outputs": [],
   "source": []
  },
  {
   "cell_type": "code",
   "execution_count": null,
   "id": "491e05ec",
   "metadata": {},
   "outputs": [],
   "source": [
    "team_urls = [f\"https://fbref.com{l}\" for l in links]"
   ]
  },
  {
   "cell_type": "code",
   "execution_count": null,
   "id": "2e269490",
   "metadata": {},
   "outputs": [],
   "source": []
  },
  {
   "cell_type": "code",
   "execution_count": null,
   "id": "4a6d6674",
   "metadata": {},
   "outputs": [],
   "source": [
    "team_url = team_urls[0]\n"
   ]
  },
  {
   "cell_type": "code",
   "execution_count": null,
   "id": "b6d76da5",
   "metadata": {},
   "outputs": [],
   "source": [
    "data = requests.get(team_url)"
   ]
  },
  {
   "cell_type": "code",
   "execution_count": null,
   "id": "42725aef",
   "metadata": {},
   "outputs": [],
   "source": [
    "data"
   ]
  },
  {
   "cell_type": "code",
   "execution_count": 13,
   "id": "00012856",
   "metadata": {},
   "outputs": [],
   "source": [
    "import pandas as pd"
   ]
  },
  {
   "cell_type": "code",
   "execution_count": null,
   "id": "c620831c",
   "metadata": {},
   "outputs": [],
   "source": [
    "matches = pd.read_html(data.text, match=\"Scores & Fixtures \")"
   ]
  },
  {
   "cell_type": "code",
   "execution_count": null,
   "id": "366eeeab",
   "metadata": {},
   "outputs": [],
   "source": [
    "matches[0]"
   ]
  },
  {
   "cell_type": "code",
   "execution_count": null,
   "id": "1cb53776",
   "metadata": {},
   "outputs": [],
   "source": [
    "soup = BeautifulSoup(data.text)"
   ]
  },
  {
   "cell_type": "code",
   "execution_count": null,
   "id": "47102fff",
   "metadata": {},
   "outputs": [],
   "source": [
    "links = soup.find_all('a')\n",
    "links = [l.get(\"href\") for l in links]\n",
    "links"
   ]
  },
  {
   "cell_type": "code",
   "execution_count": null,
   "id": "33e1590f",
   "metadata": {},
   "outputs": [],
   "source": [
    "links = [l for l in links if l and 'all_comps/shooting/' in l ]"
   ]
  },
  {
   "cell_type": "code",
   "execution_count": null,
   "id": "4f4e1ccd",
   "metadata": {},
   "outputs": [],
   "source": [
    "links"
   ]
  },
  {
   "cell_type": "code",
   "execution_count": null,
   "id": "b5931f83",
   "metadata": {},
   "outputs": [],
   "source": [
    "data = requests.get(f\"https://fbref.com{links[0]}\")\n"
   ]
  },
  {
   "cell_type": "code",
   "execution_count": null,
   "id": "f22abb6a",
   "metadata": {},
   "outputs": [],
   "source": [
    "shooting = pd.read_html(data.text, match=\"Shooting\")[0]"
   ]
  },
  {
   "cell_type": "code",
   "execution_count": null,
   "id": "c01f6ccc",
   "metadata": {},
   "outputs": [],
   "source": [
    "shooting.head()"
   ]
  },
  {
   "cell_type": "code",
   "execution_count": null,
   "id": "972d4cb7",
   "metadata": {},
   "outputs": [],
   "source": [
    "shooting.columns = shooting.columns.droplevel()"
   ]
  },
  {
   "cell_type": "code",
   "execution_count": null,
   "id": "d30c4319",
   "metadata": {},
   "outputs": [],
   "source": [
    "shooting.head()"
   ]
  },
  {
   "cell_type": "code",
   "execution_count": null,
   "id": "b9871f87",
   "metadata": {},
   "outputs": [],
   "source": [
    "shooting.columns"
   ]
  },
  {
   "cell_type": "code",
   "execution_count": null,
   "id": "475411fa",
   "metadata": {},
   "outputs": [],
   "source": [
    "matches[0].head()"
   ]
  },
  {
   "cell_type": "code",
   "execution_count": null,
   "id": "3a077abb",
   "metadata": {},
   "outputs": [],
   "source": [
    "shooting[\"Date\"]"
   ]
  },
  {
   "cell_type": "code",
   "execution_count": null,
   "id": "2e347809",
   "metadata": {},
   "outputs": [],
   "source": [
    "team_data = matches[0].merge(shooting[[\"Date\", \"Sh\", \"SoT\", \"Dist\", \"FK\", \"PK\", \"PKatt\"]], on= \"Date\")"
   ]
  },
  {
   "cell_type": "code",
   "execution_count": null,
   "id": "ac4e2a56",
   "metadata": {},
   "outputs": [],
   "source": [
    "team_data"
   ]
  },
  {
   "cell_type": "code",
   "execution_count": null,
   "id": "fcd1d126",
   "metadata": {},
   "outputs": [],
   "source": [
    "shooting.shape"
   ]
  },
  {
   "cell_type": "code",
   "execution_count": 14,
   "id": "733bd810",
   "metadata": {},
   "outputs": [],
   "source": [
    "years = list(range(2023, 2020, -1))"
   ]
  },
  {
   "cell_type": "code",
   "execution_count": 15,
   "id": "090052fc",
   "metadata": {},
   "outputs": [
    {
     "data": {
      "text/plain": [
       "[2023, 2022, 2021]"
      ]
     },
     "execution_count": 15,
     "metadata": {},
     "output_type": "execute_result"
    }
   ],
   "source": [
    "years"
   ]
  },
  {
   "cell_type": "code",
   "execution_count": 16,
   "id": "05f89350",
   "metadata": {},
   "outputs": [],
   "source": [
    "all_matches = []\n",
    "all_upcoming_matches = []"
   ]
  },
  {
   "cell_type": "code",
   "execution_count": 17,
   "id": "dda143c7",
   "metadata": {},
   "outputs": [],
   "source": [
    "standings_url = \"https://fbref.com/en/comps/9/Premier-League-Stats\""
   ]
  },
  {
   "cell_type": "code",
   "execution_count": null,
   "id": "04cf9c30",
   "metadata": {},
   "outputs": [
    {
     "name": "stdout",
     "output_type": "stream",
     "text": [
      "<Response [429]>\n",
      "<Response [429]>\n",
      "<Response [429]>\n",
      "<Response [429]>\n"
     ]
    }
   ],
   "source": [
    "import time\n",
    "import pandas as pd\n",
    "import requests\n",
    "from bs4 import BeautifulSoup\n",
    "\n",
    "standings_url = \"https://fbref.com/en/comps/9/Premier-League-Stats\"\n",
    "\n",
    "all_matches = []\n",
    "all_upcoming_matches = []\n",
    "\n",
    "years = list(range(2023, 2020, -1))\n",
    "\n",
    "for year in years:\n",
    "    data = requests.get(standings_url)\n",
    "    soup = BeautifulSoup(data.text)\n",
    "    print(data)\n",
    "    \n",
    "    sleeptime = 10\n",
    "    while data.status_code == 429:\n",
    "        time.sleep(sleeptime)\n",
    "        data = requests.get(standings_url)\n",
    "        print(data)\n",
    "        sleeptime = sleeptime*2\n",
    "        \n",
    "    standings_table = soup.select('table.stats_table')[0]\n",
    "\n",
    "    links = [l.get(\"href\") for l in standings_table.find_all('a')]\n",
    "    links =[l for l in links if '/squads/' in l]\n",
    "    team_urls = [f\"https://fbref.com{l}\" for l in links]\n",
    "\n",
    "    previous_season = soup.select(\"a.prev\")[0].get(\"href\")\n",
    "    standings_url= f\"https://fbref.com{previous_season}\"\n",
    "\n",
    "    for team_url in team_urls:\n",
    "        team_name = team_url.split(\"/\")[-1].replace(\"-Stats\",\"\").replace(\"-\",\" \")\n",
    "\n",
    "        data = requests.get(team_url)\n",
    "        print(data)\n",
    "        \n",
    "        sleeptime = 10\n",
    "        while data.status_code == 429: \n",
    "            time.sleep(sleeptime)\n",
    "            data = requests.get(team_url)\n",
    "            sleeptime = sleeptime*2\n",
    "            print(data)\n",
    "                \n",
    "        matches = pd.read_html(data.text, match=\"Scores & Fixtures\")[0]\n",
    "\n",
    "        upcomming_matches = matches[(matches['Date'].notnull()) & (matches['Result'].isnull()) & (matches['Comp'] == \"Premier League\")]\n",
    "        \n",
    "        soup = BeautifulSoup(data.text)\n",
    "        links = [l.get(\"href\") for l in soup.find_all('a')]\n",
    "        links = [l for l in links if l and 'all_comps/shooting/' in l ]\n",
    "        print(links)\n",
    "        data = requests.get(f\"https://fbref.com{links[0]}\")\n",
    "        print(data)\n",
    "        \n",
    "        sleeptime = 10\n",
    "        while data.status_code == 429:\n",
    "            time.sleep(sleeptime)\n",
    "            data = requests.get(team_url)\n",
    "            print(data)\n",
    "            sleeptime = sleeptime*2\n",
    "                    \n",
    "        shooting = pd.read_html(data.text, match=\"Shooting\")[0]\n",
    "        shooting.columns = shooting.columns.droplevel()\n",
    "\n",
    "        try:\n",
    "            team_data = matches.merge(shooting[[\"Date\", \"Sh\", \"SoT\", \"Dist\", \"FK\", \"PK\", \"PKatt\"]], on= \"Date\")\n",
    "        except ValueError:\n",
    "            continue\n",
    "        team_data = team_data[team_data[\"Comp\"] == \"Premier League\"]\n",
    "        team_data[\"Season\"] = year\n",
    "        team_data[\"Team\"] = team_name\n",
    "        all_matches.append(team_data)\n",
    "        \n",
    "        upcomming_matches[\"Season\"] = year\n",
    "        upcomming_matches[\"Team\"] = team_name\n",
    "        all_upcoming_matches.append(upcomming_matches)\n",
    "\n",
    "        #to avoid getting kicked from the websiteb (some website don't allow quick scrapping saying it slows down their websites)\n",
    "        time.sleep(1)\n",
    "\n",
    "match_df = pd.concat(all_matches)\n",
    "upcoming_matches_df = pd.concat(all_upcoming_matches)\n",
    "\n",
    "match_df.columns = [c.lower() for c in match_df.columns]\n",
    "upcoming_matches_df.columns = [c.lower() for c in match_df.columns]\n",
    "\n",
    "match_df.to_csv(\"matches.csv\")\n",
    "upcoming_matches_df.to_csv(\"upcomig_matches.csv\")"
   ]
  },
  {
   "cell_type": "code",
   "execution_count": null,
   "id": "933880dd",
   "metadata": {},
   "outputs": [],
   "source": [
    "match_df = pd.concat(all_matches)\n",
    "upcoming_matches_df = pd.concat(all_upcoming_matches)"
   ]
  },
  {
   "cell_type": "code",
   "execution_count": null,
   "id": "c68aea8c",
   "metadata": {},
   "outputs": [],
   "source": [
    "match_df.columns = [c.lower() for c in match_df.columns]\n",
    "upcoming_matches_df.columns = [c.lower() for c in match_df.columns]"
   ]
  },
  {
   "cell_type": "code",
   "execution_count": null,
   "id": "23d6ddc1",
   "metadata": {},
   "outputs": [],
   "source": [
    "match_df"
   ]
  },
  {
   "cell_type": "code",
   "execution_count": null,
   "id": "09231406",
   "metadata": {},
   "outputs": [],
   "source": [
    "match_df.to_csv(\"matches.csv\")"
   ]
  },
  {
   "cell_type": "code",
   "execution_count": null,
   "id": "bad718e5",
   "metadata": {},
   "outputs": [],
   "source": [
    "upcoming_matches_df"
   ]
  },
  {
   "cell_type": "code",
   "execution_count": null,
   "id": "46c78ed3",
   "metadata": {},
   "outputs": [],
   "source": []
  }
 ],
 "metadata": {
  "kernelspec": {
   "display_name": "Python 3 (ipykernel)",
   "language": "python",
   "name": "python3"
  },
  "language_info": {
   "codemirror_mode": {
    "name": "ipython",
    "version": 3
   },
   "file_extension": ".py",
   "mimetype": "text/x-python",
   "name": "python",
   "nbconvert_exporter": "python",
   "pygments_lexer": "ipython3",
   "version": "3.11.1"
  }
 },
 "nbformat": 4,
 "nbformat_minor": 5
}
